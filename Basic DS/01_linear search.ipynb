{
 "cells": [
  {
   "cell_type": "code",
   "execution_count": 3,
   "metadata": {},
   "outputs": [
    {
     "data": {
      "text/plain": [
       "False"
      ]
     },
     "execution_count": 3,
     "metadata": {},
     "output_type": "execute_result"
    }
   ],
   "source": [
    "def search(arr, n):\n",
    "    i = 0\n",
    "    while i < len(arr):\n",
    "        if arr[i] == n:\n",
    "            return print(\"found at position: \", i+1)\n",
    "        i+=1\n",
    "    return False\n",
    "\n",
    "arr = [12, 45, 23, 15, 18]\n",
    "search(arr, 24)"
   ]
  },
  {
   "cell_type": "code",
   "execution_count": 8,
   "metadata": {},
   "outputs": [
    {
     "name": "stdout",
     "output_type": "stream",
     "text": [
      "found at position:  3\n"
     ]
    }
   ],
   "source": [
    "def search(arr, n):\n",
    "    i = 0\n",
    "    for i in range(len(arr)):\n",
    "        if arr[i] == n:\n",
    "            return print(\"found at position: \", i+1)\n",
    "        i+=1\n",
    "    return False\n",
    "\n",
    "arr = [12, 45, 23, 15, 18]\n",
    "search(arr, 23)"
   ]
  },
  {
   "cell_type": "code",
   "execution_count": 2,
   "metadata": {},
   "outputs": [
    {
     "name": "stdout",
     "output_type": "stream",
     "text": [
      "3\n"
     ]
    }
   ],
   "source": [
    "#GFG\n",
    "\n",
    "class Solution:\n",
    "    def search(self,arr, n, k): \n",
    "        for i in range(0, n):\n",
    "            if (arr[i] == k):\n",
    "                return i+1\n",
    "        return -1\n",
    "\n",
    "arr = [12, 45, 23, 15, 18]\n",
    "n = len(arr)\n",
    "ob = Solution()\n",
    "print(ob.search(arr, n, 23))"
   ]
  },
  {
   "cell_type": "code",
   "execution_count": null,
   "metadata": {},
   "outputs": [],
   "source": []
  }
 ],
 "metadata": {
  "kernelspec": {
   "display_name": "Python 3",
   "language": "python",
   "name": "python3"
  },
  "language_info": {
   "codemirror_mode": {
    "name": "ipython",
    "version": 3
   },
   "file_extension": ".py",
   "mimetype": "text/x-python",
   "name": "python",
   "nbconvert_exporter": "python",
   "pygments_lexer": "ipython3",
   "version": "3.8.3"
  }
 },
 "nbformat": 4,
 "nbformat_minor": 4
}
