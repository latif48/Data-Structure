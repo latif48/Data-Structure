{
 "cells": [
  {
   "cell_type": "code",
   "execution_count": 3,
   "metadata": {},
   "outputs": [
    {
     "data": {
      "text/plain": [
       "4"
      ]
     },
     "execution_count": 3,
     "metadata": {},
     "output_type": "execute_result"
    }
   ],
   "source": [
    "class Solution:\n",
    "    ##Complete this function\n",
    "    def searchInSorted(self,arr, N, K):\n",
    "        l = 0\n",
    "        u = N-1\n",
    "        while l <= u:\n",
    "            mid = (l+u) // 2\n",
    "            \n",
    "            if arr[mid] == K:\n",
    "                return mid\n",
    "            else:\n",
    "                if arr[mid] < K:\n",
    "                    l = mid+1\n",
    "                else:\n",
    "                    u = mid+1\n",
    "                    \n",
    "\n",
    "arr = [1, 3, 5, 7, 8, 10]                    \n",
    "ob = Solution()\n",
    "ob.searchInSorted(arr, 6, 8)"
   ]
  },
  {
   "cell_type": "code",
   "execution_count": 13,
   "metadata": {},
   "outputs": [
    {
     "data": {
      "text/plain": [
       "1"
      ]
     },
     "execution_count": 13,
     "metadata": {},
     "output_type": "execute_result"
    }
   ],
   "source": [
    "class Solution:\n",
    "    def binarySearch (self,arr, l, r, k): \n",
    "      \n",
    "        # Check base case \n",
    "        if r >= l: \n",
    "            # calculate mid\n",
    "            mid = int(l + (r - l)/2)\n",
    "      \n",
    "            # If element is present at the middle itself \n",
    "            if arr[mid] == k: \n",
    "                return 1 \n",
    "              \n",
    "            # If element is smaller than mid, then it  \n",
    "            # can only be present in left subarray \n",
    "            elif arr[mid] > k: \n",
    "                return self.binarySearch(arr, l, mid-1, k) \n",
    "      \n",
    "            # Else the element can only be present  \n",
    "            # in right subarray \n",
    "            else: \n",
    "                return self.binarySearch(arr, mid + 1, r, k) \n",
    "      \n",
    "        else: \n",
    "            # Element is not present in the array \n",
    "            return -1\n",
    "    \n",
    "    def searchInSorted(self,A,N,K):\n",
    "        return self.binarySearch(A,0,len(A),K)\n",
    "\n",
    "\n",
    "\n",
    "arr = [1, 3, 5, 7, 8, 10]                    \n",
    "ob = Solution()\n",
    "ob.searchInSorted(arr, 6, 1)"
   ]
  },
  {
   "cell_type": "code",
   "execution_count": null,
   "metadata": {},
   "outputs": [],
   "source": []
  }
 ],
 "metadata": {
  "kernelspec": {
   "display_name": "Python 3",
   "language": "python",
   "name": "python3"
  },
  "language_info": {
   "codemirror_mode": {
    "name": "ipython",
    "version": 3
   },
   "file_extension": ".py",
   "mimetype": "text/x-python",
   "name": "python",
   "nbconvert_exporter": "python",
   "pygments_lexer": "ipython3",
   "version": "3.8.3"
  }
 },
 "nbformat": 4,
 "nbformat_minor": 4
}
