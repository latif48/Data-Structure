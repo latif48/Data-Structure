{
 "cells": [
  {
   "cell_type": "code",
   "execution_count": 7,
   "metadata": {},
   "outputs": [
    {
     "name": "stdout",
     "output_type": "stream",
     "text": [
      "[8, 9, 10, 12, 15, 23]\n"
     ]
    }
   ],
   "source": [
    "def sort(arr):\n",
    "    for i in range(len(arr)-1):\n",
    "        min = i\n",
    "        for j in range(i, len(arr)):\n",
    "            if arr[j] < arr[min]:\n",
    "                min = j\n",
    "        arr[i], arr[min] = arr[min], arr[i]\n",
    "                \n",
    "                \n",
    "arr = [12, 23, 15, 10, 9, 8]\n",
    "sort(arr)\n",
    "print(arr)"
   ]
  },
  {
   "cell_type": "code",
   "execution_count": 8,
   "metadata": {},
   "outputs": [
    {
     "name": "stdout",
     "output_type": "stream",
     "text": [
      "[23, 15, 12, 10, 9, 8]\n"
     ]
    }
   ],
   "source": [
    "def sort(arr):\n",
    "    for i in range(len(arr)-1):\n",
    "        max = i\n",
    "        for j in range(i, len(arr)):\n",
    "            if arr[j] > arr[max]:\n",
    "                max = j\n",
    "        arr[i], arr[max] = arr[max], arr[i]\n",
    "                \n",
    "                \n",
    "arr = [12, 23, 15, 10, 9, 8]\n",
    "sort(arr)\n",
    "print(arr)"
   ]
  },
  {
   "cell_type": "code",
   "execution_count": 17,
   "metadata": {},
   "outputs": [
    {
     "name": "stdout",
     "output_type": "stream",
     "text": [
      "[8, 9, 10, 12, 15, 23]\n"
     ]
    }
   ],
   "source": [
    "#gfg\n",
    "class Solution: \n",
    "    def select(self, arr, i):\n",
    "        max = arr[0]\n",
    "        idx = 0\n",
    "        for j in range(0, i+1):\n",
    "            if arr[j] > max:\n",
    "                idx = j\n",
    "                max = arr[j]\n",
    "        return idx\n",
    "            \n",
    "    def selectionSort(self, arr,n):\n",
    "        for i in range(n-1, 0, -1):\n",
    "            j = self.select(arr, i)\n",
    "            \n",
    "            arr[i], arr[j] = arr[j], arr[i]\n",
    "            \n",
    "            \n",
    "arr = [12, 23, 15, 10, 9, 8]\n",
    "ob = Solution()\n",
    "ob.selectionSort(arr, 6)\n",
    "print(arr)"
   ]
  },
  {
   "cell_type": "code",
   "execution_count": null,
   "metadata": {},
   "outputs": [],
   "source": []
  },
  {
   "cell_type": "code",
   "execution_count": null,
   "metadata": {},
   "outputs": [],
   "source": []
  },
  {
   "cell_type": "code",
   "execution_count": null,
   "metadata": {},
   "outputs": [],
   "source": []
  }
 ],
 "metadata": {
  "kernelspec": {
   "display_name": "Python 3",
   "language": "python",
   "name": "python3"
  },
  "language_info": {
   "codemirror_mode": {
    "name": "ipython",
    "version": 3
   },
   "file_extension": ".py",
   "mimetype": "text/x-python",
   "name": "python",
   "nbconvert_exporter": "python",
   "pygments_lexer": "ipython3",
   "version": "3.8.3"
  }
 },
 "nbformat": 4,
 "nbformat_minor": 4
}
