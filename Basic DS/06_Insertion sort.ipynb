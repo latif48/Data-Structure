{
 "cells": [
  {
   "cell_type": "code",
   "execution_count": 4,
   "metadata": {},
   "outputs": [
    {
     "name": "stdout",
     "output_type": "stream",
     "text": [
      "[1, 3, 4, 9, 7]\n"
     ]
    }
   ],
   "source": [
    "#time complexity: O(NlogN)\n",
    "\n",
    "class Solution:\n",
    "        \n",
    "    def insertionSort(self, alist, n):\n",
    "        for i in range(1, n-1):\n",
    "            value = alist[i]\n",
    "            hole = i\n",
    "            while (hole > 0 and alist[hole-1] > value):\n",
    "                alist[hole] = alist[hole-1]\n",
    "                hole = hole-1\n",
    "                \n",
    "            alist[hole] = value\n",
    "            \n",
    "arr = [4, 1, 3, 9, 7]\n",
    "ob = Solution()\n",
    "ob.insertionSort(arr, 5)\n",
    "print(arr)"
   ]
  },
  {
   "cell_type": "code",
   "execution_count": null,
   "metadata": {},
   "outputs": [],
   "source": []
  }
 ],
 "metadata": {
  "kernelspec": {
   "display_name": "Python 3",
   "language": "python",
   "name": "python3"
  },
  "language_info": {
   "codemirror_mode": {
    "name": "ipython",
    "version": 3
   },
   "file_extension": ".py",
   "mimetype": "text/x-python",
   "name": "python",
   "nbconvert_exporter": "python",
   "pygments_lexer": "ipython3",
   "version": "3.8.3"
  }
 },
 "nbformat": 4,
 "nbformat_minor": 4
}
