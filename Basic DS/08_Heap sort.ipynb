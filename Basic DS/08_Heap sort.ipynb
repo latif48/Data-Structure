{
 "cells": [
  {
   "cell_type": "code",
   "execution_count": 2,
   "metadata": {},
   "outputs": [
    {
     "name": "stdout",
     "output_type": "stream",
     "text": [
      "[5, 6, 7, 11, 12, 13]\n"
     ]
    }
   ],
   "source": [
    "def heapify(arr, n, i):\n",
    "    largest = i  # Initialize largest as root\n",
    "    l = 2 * i + 1     # left = 2*i + 1\n",
    "    r = 2 * i + 2     # right = 2*i + 2\n",
    "\n",
    "    # See if left child of root exists and is\n",
    "    # greater than root\n",
    "    if l < n and arr[largest] < arr[l]:\n",
    "        largest = l\n",
    "\n",
    "    # See if right child of root exists and is\n",
    "    # greater than root\n",
    "    if r < n and arr[largest] < arr[r]:\n",
    "        largest = r\n",
    "\n",
    "    # Change root, if needed\n",
    "    if largest != i:\n",
    "        arr[i], arr[largest] = arr[largest], arr[i]  # swap\n",
    "\n",
    "        # Heapify the root.\n",
    "        heapify(arr, n, largest)\n",
    "\n",
    "# The main function to sort an array of given size\n",
    "\n",
    "\n",
    "def heapSort(arr):\n",
    "    n = len(arr)\n",
    "\n",
    "    # Build a maxheap.\n",
    "    for i in range(n//2 - 1, -1, -1):\n",
    "        heapify(arr, n, i)\n",
    "\n",
    "    # One by one extract elements\n",
    "    for i in range(n-1, 0, -1):\n",
    "        arr[i], arr[0] = arr[0], arr[i]  # swap\n",
    "        heapify(arr, i, 0)\n",
    "        \n",
    "        \n",
    "        \n",
    "# Driver code\n",
    "arr = [12, 11, 13, 5, 6, 7]\n",
    "heapSort(arr)\n",
    "n = len(arr)\n",
    "print(arr)"
   ]
  },
  {
   "cell_type": "code",
   "execution_count": 4,
   "metadata": {},
   "outputs": [
    {
     "name": "stdout",
     "output_type": "stream",
     "text": [
      "[5, 6, 7, 11, 12, 13]\n"
     ]
    }
   ],
   "source": [
    "class Solution:\n",
    "    \n",
    "    #Heapify function to maintain heap property.\n",
    "    def heapify(self,arr, n, i):\n",
    "        largest = i \n",
    "        l = 2 * i + 1  \n",
    "        r = 2 * i + 2   \n",
    "    \n",
    "        #if left or right child is greater than current element, \n",
    "        #we store its position.\n",
    "        if l < n and arr[i] < arr[l]:\n",
    "            largest = l\n",
    "        if r < n and arr[largest] < arr[r]:\n",
    "            largest = r\n",
    "    \n",
    "        #if largest is not equal to i, we swap the values at their position.     \n",
    "        if largest != i:\n",
    "            arr[i], arr[largest] = arr[largest], arr[i]\n",
    "            #calling function recursively for the largest variable.\n",
    "            self.heapify(arr, n, largest)\n",
    "    \n",
    "    \n",
    "    #Function to build a Heap from array.\n",
    "    def buildHeap(self,arr,n):\n",
    "        \n",
    "        #calling heapify function for values from half to first index.\n",
    "        for i in range(n, -1, -1):\n",
    "            self.heapify(arr, n, i)\n",
    "    \n",
    "    #Function to sort an array using Heap Sort.\n",
    "    def HeapSort(self,arr,n):\n",
    "        \n",
    "        #calling function to build heap with array.\n",
    "        self.buildHeap(arr,n)\n",
    "        \n",
    "        for i in range(n - 1, 0, -1):\n",
    "            \n",
    "            #swapping values at current and first index.\n",
    "            arr[i], arr[0] = arr[0], arr[i] \n",
    "            #calling heapify function for first index.\n",
    "            self.heapify(arr, i, 0)\n",
    "            \n",
    "            \n",
    "            \n",
    "arr = [12, 11, 13, 5, 6, 7]\n",
    "\n",
    "n = len(arr)\n",
    "ob = Solution()\n",
    "ob.HeapSort(arr, n)\n",
    "print(arr)"
   ]
  },
  {
   "cell_type": "code",
   "execution_count": null,
   "metadata": {},
   "outputs": [],
   "source": []
  }
 ],
 "metadata": {
  "kernelspec": {
   "display_name": "Python 3",
   "language": "python",
   "name": "python3"
  },
  "language_info": {
   "codemirror_mode": {
    "name": "ipython",
    "version": 3
   },
   "file_extension": ".py",
   "mimetype": "text/x-python",
   "name": "python",
   "nbconvert_exporter": "python",
   "pygments_lexer": "ipython3",
   "version": "3.8.3"
  }
 },
 "nbformat": 4,
 "nbformat_minor": 4
}
