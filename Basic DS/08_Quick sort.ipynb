{
 "cells": [
  {
   "cell_type": "code",
   "execution_count": 11,
   "metadata": {},
   "outputs": [
    {
     "name": "stdout",
     "output_type": "stream",
     "text": [
      "[1, 2, 3, 4, 5, 6, 7, 8, 9, 10]\n"
     ]
    }
   ],
   "source": [
    "class Solution:\n",
    "    #Function to sort a list using quick sort algorithm.\n",
    "    def quickSort(self,arr,low,high):\n",
    "        \n",
    "        if low < high:\n",
    "            pi = self.partition(arr, low, high)\n",
    "            self.quickSort(arr, low, pi-1)\n",
    "            self.quickSort(arr, pi+1, high)\n",
    "    \n",
    "    def partition(self,arr,low,high):\n",
    "        pivot = arr[high]\n",
    "        pi = low\n",
    "        for i in range(low, high):\n",
    "            if arr[i] <= pivot:\n",
    "                arr[i], arr[pi] = arr[pi], arr[i]\n",
    "                pi += 1\n",
    "        arr[pi], arr[high] = arr[high], arr[pi]\n",
    "        return pi\n",
    "        \n",
    "        \n",
    "if __name__ == '__main__':\n",
    "    arr = [10, 9, 8, 7, 6, 5, 4, 3, 2, 1]\n",
    "    n = len(arr)\n",
    "    ob = Solution()\n",
    "    ob.quickSort(arr, 0, n-1)\n",
    "    print(arr, end=\"\\n\")"
   ]
  },
  {
   "cell_type": "code",
   "execution_count": 3,
   "metadata": {},
   "outputs": [
    {
     "name": "stdout",
     "output_type": "stream",
     "text": [
      "Sorted array:  [1, 5, 7, 8, 9, 10]\n"
     ]
    }
   ],
   "source": [
    "def partition(start, end, array): \n",
    "    pivot_index = start\n",
    "    pivot = array[pivot_index]\n",
    "     \n",
    "    while start < end:\n",
    "         \n",
    "        while start < len(array) and array[start] <= pivot:\n",
    "            start += 1\n",
    "             \n",
    "        while array[end] > pivot:\n",
    "            end -= 1\n",
    "         \n",
    "        if(start < end):\n",
    "            array[start], array[end] = array[end], array[start]\n",
    "     \n",
    "    array[end], array[pivot_index] = array[pivot_index], array[end]\n",
    "    \n",
    "    return end\n",
    "     \n",
    "def quick_sort(start, end, array):\n",
    "     \n",
    "    if (start < end):\n",
    "        p = partition(start, end, array)\n",
    "        quick_sort(start, p - 1, array)\n",
    "        quick_sort(p + 1, end, array)\n",
    "         \n",
    "# Driver code\n",
    "array = [ 10, 7, 8, 9, 1, 5 ]\n",
    "quick_sort(0, len(array) - 1, array)\n",
    " \n",
    "print(\"Sorted array: \", array)"
   ]
  },
  {
   "cell_type": "code",
   "execution_count": null,
   "metadata": {},
   "outputs": [],
   "source": []
  }
 ],
 "metadata": {
  "kernelspec": {
   "display_name": "Python 3",
   "language": "python",
   "name": "python3"
  },
  "language_info": {
   "codemirror_mode": {
    "name": "ipython",
    "version": 3
   },
   "file_extension": ".py",
   "mimetype": "text/x-python",
   "name": "python",
   "nbconvert_exporter": "python",
   "pygments_lexer": "ipython3",
   "version": "3.8.3"
  }
 },
 "nbformat": 4,
 "nbformat_minor": 4
}
