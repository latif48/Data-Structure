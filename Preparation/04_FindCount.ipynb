{
 "cells": [
  {
   "cell_type": "markdown",
   "metadata": {},
   "source": [
    "You are given a function,\n",
    "int findCount(int arr[], int length, int num, int diff);\n",
    "\n",
    "The function accepts an integer array ‘arr’, its length and two integer variables ‘num’ and ‘diff’. Implement this function to find and return the number of elements of ‘arr’ having an absolute difference of less than or equal to ‘diff’ with ‘num’.\n",
    "Note: In case there is no element in ‘arr’ whose absolute difference with ‘num’ is less than or equal to ‘diff’, return -1.\n",
    "\n",
    "Example:\n",
    "Input:\n",
    "\n",
    "arr: 12 3 14 56 77 13\n",
    "num: 13\n",
    "diff: 2\n",
    "Output:\n",
    "3\n",
    "\n",
    "Explanation:\n",
    "Elements of ‘arr’ having absolute difference of less than or equal to ‘diff’ i.e. 2 with ‘num’ i.e. 13 are 12, 13 and 14."
   ]
  },
  {
   "cell_type": "code",
   "execution_count": 1,
   "metadata": {},
   "outputs": [
    {
     "name": "stdout",
     "output_type": "stream",
     "text": [
      "6\n",
      "12 3 14 56 77 13\n",
      "13\n",
      "2\n",
      "3\n"
     ]
    }
   ],
   "source": [
    "def findCount(n, arr, num, diff):\n",
    "    count=0\n",
    "    for i in range(n):\n",
    "        if(abs(arr[i]-num)<=diff):\n",
    "            count+=1\n",
    " \n",
    "    if count:\n",
    "        return count\n",
    "    return 0\n",
    " \n",
    "n=int(input())\n",
    "arr=list(map(int,input().split()))\n",
    "num=int(input())\n",
    "diff=int(input())\n",
    "print(findCount(n, arr, num, diff))"
   ]
  },
  {
   "cell_type": "code",
   "execution_count": null,
   "metadata": {},
   "outputs": [],
   "source": []
  }
 ],
 "metadata": {
  "kernelspec": {
   "display_name": "Python 3",
   "language": "python",
   "name": "python3"
  },
  "language_info": {
   "codemirror_mode": {
    "name": "ipython",
    "version": 3
   },
   "file_extension": ".py",
   "mimetype": "text/x-python",
   "name": "python",
   "nbconvert_exporter": "python",
   "pygments_lexer": "ipython3",
   "version": "3.8.3"
  }
 },
 "nbformat": 4,
 "nbformat_minor": 4
}
