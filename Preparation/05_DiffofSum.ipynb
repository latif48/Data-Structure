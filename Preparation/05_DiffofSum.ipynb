{
 "cells": [
  {
   "cell_type": "markdown",
   "metadata": {},
   "source": [
    "Implement the following Function \n",
    "\n",
    "def differenceofSum(n. m)\n",
    "\n",
    "The function accepts two integers n, m as arguments Find the sum of all numbers in range from 1 to m(both inclusive) that are not divisible by n. Return difference between sum of integers not divisible by n with sum of numbers divisible by n.\n",
    "\n",
    "Assumption:\n",
    "\n",
    "n>0 and m>0\n",
    "Sum lies between integral range\n",
    "Example\n",
    "\n",
    "Input\n",
    "n:4\n",
    "m:20\n",
    "Output\n",
    "90\n",
    "\n",
    "Explanation\n",
    "\n",
    "Sum of numbers divisible by 4 are 4 + 8 + 12 + 16 + 20 = 60\n",
    "Sum of numbers not divisible by 4 are 1 +2 + 3 + 5 + 6 + 7 + 9 + 10 + 11 + 13 + 14 + 15 + 17 + 18 + 19 = 150\n",
    "Difference 150 – 60 = 90\n",
    "\n",
    "\n",
    "Sample Input\n",
    "n:3\n",
    "m:10\n",
    "Sample Output\n",
    "19"
   ]
  },
  {
   "cell_type": "code",
   "execution_count": 3,
   "metadata": {},
   "outputs": [
    {
     "name": "stdout",
     "output_type": "stream",
     "text": [
      "Enter n: 4\n",
      "Enter m: 20\n",
      "90\n"
     ]
    }
   ],
   "source": [
    "def differenceofSum(n, m):\n",
    "    sum1 =0 \n",
    "    sum2 =0\n",
    "    for i in range(1, m+1):\n",
    "        if i%n == 0:\n",
    "            sum1+=i\n",
    "        else:\n",
    "            sum2+=i\n",
    "    return abs(sum2-sum1)\n",
    "\n",
    "n = int(input(\"Enter n: \"))\n",
    "m = int(input(\"Enter m: \"))\n",
    "print(differenceofSum(n, m))"
   ]
  },
  {
   "cell_type": "code",
   "execution_count": null,
   "metadata": {},
   "outputs": [],
   "source": []
  }
 ],
 "metadata": {
  "kernelspec": {
   "display_name": "Python 3",
   "language": "python",
   "name": "python3"
  },
  "language_info": {
   "codemirror_mode": {
    "name": "ipython",
    "version": 3
   },
   "file_extension": ".py",
   "mimetype": "text/x-python",
   "name": "python",
   "nbconvert_exporter": "python",
   "pygments_lexer": "ipython3",
   "version": "3.8.3"
  }
 },
 "nbformat": 4,
 "nbformat_minor": 4
}
